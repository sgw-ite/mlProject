{
 "cells": [
  {
   "cell_type": "code",
   "execution_count": 1,
   "metadata": {},
   "outputs": [
    {
     "name": "stderr",
     "output_type": "stream",
     "text": [
      "C:\\Users\\22251\\AppData\\Local\\conda\\conda\\envs\\my_root\\lib\\site-packages\\gensim\\utils.py:1212: UserWarning: detected Windows; aliasing chunkize to chunkize_serial\n",
      "  warnings.warn(\"detected Windows; aliasing chunkize to chunkize_serial\")\n"
     ]
    }
   ],
   "source": [
    "import re\n",
    "import numpy as np\n",
    "import random\n",
    "import gensim\n",
    "from gensim.models import Word2Vec"
   ]
  },
  {
   "cell_type": "code",
   "execution_count": 2,
   "metadata": {},
   "outputs": [],
   "source": [
    "def textParse(bigString):  # 将字符串转换为字符列表\n",
    "    listOfTokens = re.split(r'\\W*', bigString)  # 将特殊符号作为切分标志进行字符串切分，即非字母、非数字\n",
    "    return [tok.lower() for tok in listOfTokens if len(tok) > 2]  # 除了单个字母，例如大写的I，其它单词变成小写"
   ]
  },
  {
   "cell_type": "code",
   "execution_count": 3,
   "metadata": {},
   "outputs": [
    {
     "name": "stderr",
     "output_type": "stream",
     "text": [
      "C:\\Users\\22251\\AppData\\Local\\conda\\conda\\envs\\my_root\\lib\\re.py:212: FutureWarning: split() requires a non-empty pattern match.\n",
      "  return _compile(pattern, flags).split(string, maxsplit)\n"
     ]
    }
   ],
   "source": [
    "docList = []\n",
    "classList = []\n",
    "fullText = []\n",
    "for i in range(1, 26):  # 遍历25个txt文件\n",
    "    wordList = textParse(open('email/spam/%d.txt' % i, 'r').read())  # 读取每个垃圾邮件，并字符串转换成字符串列表\n",
    "    docList.append(wordList)\n",
    "    fullText.append(wordList)\n",
    "    classList.append(1)  # 标记垃圾邮件，1表示垃圾文件\n",
    "    wordList = textParse(open('email/ham/%d.txt' % i, 'r').read())  # 读取每个非垃圾邮件，并字符串转换成字符串列表\n",
    "    docList.append(wordList)\n",
    "    fullText.append(wordList)\n",
    "    classList.append(0)  # 标记正常邮件，0表示正常文件"
   ]
  },
  {
   "cell_type": "code",
   "execution_count": null,
   "metadata": {},
   "outputs": [],
   "source": []
  },
  {
   "cell_type": "code",
   "execution_count": 4,
   "metadata": {},
   "outputs": [],
   "source": [
    "model = Word2Vec(fullText, size=100, workers=4)"
   ]
  },
  {
   "cell_type": "code",
   "execution_count": 15,
   "metadata": {},
   "outputs": [
    {
     "ename": "TypeError",
     "evalue": "'dict' object is not callable",
     "output_type": "error",
     "traceback": [
      "\u001b[1;31m---------------------------------------------------------------------------\u001b[0m",
      "\u001b[1;31mTypeError\u001b[0m                                 Traceback (most recent call last)",
      "\u001b[1;32m<ipython-input-15-5094c08991fd>\u001b[0m in \u001b[0;36m<module>\u001b[1;34m()\u001b[0m\n\u001b[1;32m----> 1\u001b[1;33m \u001b[0mset1\u001b[0m \u001b[1;33m=\u001b[0m \u001b[0mset\u001b[0m\u001b[1;33m(\u001b[0m\u001b[1;33m[\u001b[0m\u001b[1;33m]\u001b[0m\u001b[1;33m)\u001b[0m\u001b[1;33m\u001b[0m\u001b[1;33m\u001b[0m\u001b[0m\n\u001b[0m\u001b[0;32m      2\u001b[0m \u001b[1;32mfor\u001b[0m \u001b[0mi\u001b[0m \u001b[1;32min\u001b[0m \u001b[0mfullText\u001b[0m\u001b[1;33m:\u001b[0m\u001b[1;33m\u001b[0m\u001b[1;33m\u001b[0m\u001b[0m\n\u001b[0;32m      3\u001b[0m     \u001b[1;32mfor\u001b[0m \u001b[0mj\u001b[0m \u001b[1;32min\u001b[0m \u001b[0mi\u001b[0m\u001b[1;33m:\u001b[0m\u001b[1;33m\u001b[0m\u001b[1;33m\u001b[0m\u001b[0m\n\u001b[0;32m      4\u001b[0m         \u001b[0mset1\u001b[0m \u001b[1;33m=\u001b[0m \u001b[0mset1\u001b[0m\u001b[1;33m.\u001b[0m\u001b[0mappend\u001b[0m\u001b[1;33m(\u001b[0m\u001b[0mj\u001b[0m\u001b[1;33m)\u001b[0m\u001b[1;33m\u001b[0m\u001b[1;33m\u001b[0m\u001b[0m\n",
      "\u001b[1;31mTypeError\u001b[0m: 'dict' object is not callable"
     ]
    }
   ],
   "source": [
    "set1 = set([])\n",
    "for i in fullText:\n",
    "    for j in i:\n",
    "        set1 = set1.append(j)"
   ]
  },
  {
   "cell_type": "code",
   "execution_count": 11,
   "metadata": {},
   "outputs": [
    {
     "data": {
      "text/plain": [
       "81"
      ]
     },
     "execution_count": 11,
     "metadata": {},
     "output_type": "execute_result"
    }
   ],
   "source": [
    "len(wv.vocab.keys())"
   ]
  },
  {
   "cell_type": "code",
   "execution_count": 5,
   "metadata": {},
   "outputs": [],
   "source": [
    "wv = model.wv"
   ]
  },
  {
   "cell_type": "code",
   "execution_count": 6,
   "metadata": {},
   "outputs": [],
   "source": [
    "wv.save('word_vector')"
   ]
  },
  {
   "cell_type": "code",
   "execution_count": 8,
   "metadata": {},
   "outputs": [
    {
     "data": {
      "text/plain": [
       "array([-2.9880281e-03, -2.2907767e-03, -1.8303173e-03, -2.5084151e-03,\n",
       "       -4.7328486e-03,  4.8422795e-03,  3.3064652e-03,  2.3051815e-03,\n",
       "       -1.8608738e-03, -1.3445601e-03,  3.7615770e-04, -1.9220423e-03,\n",
       "        3.1380185e-03, -3.9514899e-03,  3.6781281e-03, -3.9740019e-03,\n",
       "       -4.4381185e-03, -1.2248236e-03,  1.7872710e-03,  1.3411614e-04,\n",
       "       -2.1805430e-03,  2.0103292e-03,  1.1242296e-04,  6.9337338e-04,\n",
       "       -2.9921280e-03, -3.9495849e-03, -3.7889164e-03,  4.1532563e-04,\n",
       "        2.4826315e-03,  4.0382394e-03, -5.6641884e-03,  3.3364967e-03,\n",
       "        5.0030230e-03,  4.4746180e-03, -6.8182894e-04, -1.1342540e-03,\n",
       "       -4.6112812e-03,  7.5013569e-04,  3.9907931e-03, -4.6928134e-03,\n",
       "        2.0313256e-03,  4.1969954e-03, -7.3190068e-04,  3.5521197e-03,\n",
       "       -4.3395380e-03, -1.8554538e-03,  7.5592182e-04, -4.4373684e-03,\n",
       "       -1.9098192e-03,  1.7487375e-03,  4.3756836e-03,  7.5594406e-04,\n",
       "        3.2453509e-03, -3.1710302e-03,  1.4854555e-03, -7.0190331e-04,\n",
       "       -1.0884908e-03, -8.5981650e-04,  1.9051208e-03,  1.7487500e-03,\n",
       "        4.5457878e-03, -1.8296217e-03, -1.8292761e-03,  5.4713280e-04,\n",
       "       -3.7442596e-04,  1.1925941e-03,  4.8196437e-03,  4.8843827e-03,\n",
       "        3.0197413e-03, -4.9399124e-03, -1.1810230e-03,  1.2579489e-04,\n",
       "       -1.1059504e-03, -1.7345221e-03,  1.0755268e-03,  8.1869453e-04,\n",
       "        3.2029278e-03, -3.9799074e-03,  3.8826191e-03, -4.3454999e-03,\n",
       "        4.0587974e-03, -2.8960933e-03, -2.6512402e-05,  5.3269053e-03,\n",
       "       -3.0731463e-03, -4.6733678e-03, -2.3662129e-03, -1.5927803e-03,\n",
       "        3.8116637e-03,  7.2858861e-04, -2.2929735e-03, -5.2599632e-03,\n",
       "        5.7039922e-04, -3.6074381e-04,  7.5958396e-04, -3.6746592e-04,\n",
       "        1.5513942e-03,  7.0194824e-04,  4.1265520e-03, -2.4576592e-03],\n",
       "      dtype=float32)"
      ]
     },
     "execution_count": 8,
     "metadata": {},
     "output_type": "execute_result"
    }
   ],
   "source": [
    "wv['for']"
   ]
  },
  {
   "cell_type": "code",
   "execution_count": null,
   "metadata": {},
   "outputs": [],
   "source": []
  }
 ],
 "metadata": {
  "kernelspec": {
   "display_name": "Python 3",
   "language": "python",
   "name": "python3"
  },
  "language_info": {
   "codemirror_mode": {
    "name": "ipython",
    "version": 3
   },
   "file_extension": ".py",
   "mimetype": "text/x-python",
   "name": "python",
   "nbconvert_exporter": "python",
   "pygments_lexer": "ipython3",
   "version": "3.6.7"
  }
 },
 "nbformat": 4,
 "nbformat_minor": 2
}
